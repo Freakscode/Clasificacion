{
 "cells": [
  {
   "cell_type": "code",
   "execution_count": 2,
   "outputs": [],
   "source": [
    "#Importar librerias necesarias para el estudio y manipulación de los datos\n",
    "import numpy as np\n",
    "import matplotlib.pyplot as plt\n",
    "import pandas as pd\n",
    "import seaborn as sns\n",
    "from sklearn.ensemble import RandomForestClassifier\n",
    "from sklearn.datasets import make_classification\n",
    "from sklearn.linear_model import Perceptron\n",
    "from sklearn.model_selection import train_test_split\n",
    "from sklearn.metrics import plot_confusion_matrix, confusion_matrix, accuracy_score, f1_score, precision_score, recall_score\n",
    "from sklearn.preprocessing import MinMaxScaler"
   ],
   "metadata": {
    "collapsed": false,
    "pycharm": {
     "name": "#%%\n"
    }
   }
  },
  {
   "cell_type": "code",
   "execution_count": 3,
   "outputs": [
    {
     "name": "stdout",
     "output_type": "stream",
     "text": [
      "    Class  Age Sex  Steroid Antivirals Fatigue Malaise Anorexia Liver Big  \\\n",
      "2      30    2   1        2          2       2       2        1         2   \n",
      "2      50    1   1        2          1       2       2        1         2   \n",
      "2      78    1   2        2          1       2       2        2         2   \n",
      "2      31    1   ?        1          2       2       2        2         2   \n",
      "2      34    1   2        2          2       2       2        2         2   \n",
      "..    ...  ...  ..      ...        ...     ...     ...      ...       ...   \n",
      "1      46    1   2        2          1       1       1        2         2   \n",
      "2      44    1   2        2          1       2       2        2         1   \n",
      "2      61    1   1        2          1       1       2        1         1   \n",
      "2      53    2   1        2          1       2       2        2         2   \n",
      "1      43    1   2        2          1       2       2        2         2   \n",
      "\n",
      "   Liver Firm Spleen Palpable Spiders Ascites Varices Bilirubin Alk Phosphate  \\\n",
      "2           2               2       2       2    1.00        85            18   \n",
      "2           2               2       2       2    0.90       135            42   \n",
      "2           2               2       2       2    0.70        96            32   \n",
      "2           2               2       2       2    0.70        46            52   \n",
      "2           2               2       2       2    1.00         ?           200   \n",
      "..        ...             ...     ...     ...     ...       ...           ...   \n",
      "1           2               1       1       1    7.60         ?           242   \n",
      "2           2               2       2       2    0.90       126           142   \n",
      "2           2               1       2       2    0.80        75            20   \n",
      "2           1               1       2       1    1.50        81            19   \n",
      "1           1               1       1       2    1.20       100            19   \n",
      "\n",
      "   Albumin Protime  Histology  \n",
      "2      4.0       ?          1  \n",
      "2      3.5       ?          1  \n",
      "2      4.0       ?          1  \n",
      "2      4.0      80          1  \n",
      "2      4.0       ?          1  \n",
      "..     ...     ...        ...  \n",
      "1      3.3      50          2  \n",
      "2      4.3       ?          2  \n",
      "2      4.1       ?          2  \n",
      "2      4.1      48          2  \n",
      "1      3.1      42          2  \n",
      "\n",
      "[155 rows x 19 columns]\n"
     ]
    }
   ],
   "source": [
    "data = pd.read_csv('https://archive.ics.uci.edu/ml/machine-learning-databases/hepatitis/hepatitis.data', names = [\"Class\",\"Age\", \"Sex\", \"Steroid\", \"Antivirals\", \"Fatigue\",\"Malaise\", \"Anorexia\", \"Liver Big\", \"Liver Firm\", \"Spleen Palpable\", \"Spiders\", \"Ascites\", \"Varices\", \"Bilirubin\", \"Alk Phosphate\", \"Albumin\", \"Protime\", \"Histology\"])\n",
    "hept_df = pd.DataFrame(data=data)\n",
    "print(hept_df)"
   ],
   "metadata": {
    "collapsed": false,
    "pycharm": {
     "name": "#%%\n"
    }
   }
  },
  {
   "cell_type": "code",
   "execution_count": 4,
   "outputs": [
    {
     "name": "stdout",
     "output_type": "stream",
     "text": [
      "<class 'pandas.core.frame.DataFrame'>\n",
      "Int64Index: 155 entries, 2 to 1\n",
      "Data columns (total 19 columns):\n",
      " #   Column           Non-Null Count  Dtype \n",
      "---  ------           --------------  ----- \n",
      " 0   Class            155 non-null    int64 \n",
      " 1   Age              155 non-null    int64 \n",
      " 2   Sex              155 non-null    object\n",
      " 3   Steroid          155 non-null    int64 \n",
      " 4   Antivirals       155 non-null    object\n",
      " 5   Fatigue          155 non-null    object\n",
      " 6   Malaise          155 non-null    object\n",
      " 7   Anorexia         155 non-null    object\n",
      " 8   Liver Big        155 non-null    object\n",
      " 9   Liver Firm       155 non-null    object\n",
      " 10  Spleen Palpable  155 non-null    object\n",
      " 11  Spiders          155 non-null    object\n",
      " 12  Ascites          155 non-null    object\n",
      " 13  Varices          155 non-null    object\n",
      " 14  Bilirubin        155 non-null    object\n",
      " 15  Alk Phosphate    155 non-null    object\n",
      " 16  Albumin          155 non-null    object\n",
      " 17  Protime          155 non-null    object\n",
      " 18  Histology        155 non-null    int64 \n",
      "dtypes: int64(4), object(15)\n",
      "memory usage: 24.2+ KB\n"
     ]
    }
   ],
   "source": [
    "hept_df.info()"
   ],
   "metadata": {
    "collapsed": false,
    "pycharm": {
     "name": "#%%\n"
    }
   }
  },
  {
   "cell_type": "code",
   "execution_count": 5,
   "outputs": [
    {
     "name": "stdout",
     "output_type": "stream",
     "text": [
      "    Class  Age  Sex  Steroid  Antivirals  Fatigue  Malaise  Anorexia  \\\n",
      "2      30    2  1.0        2         2.0      2.0      2.0       1.0   \n",
      "2      50    1  1.0        2         1.0      2.0      2.0       1.0   \n",
      "2      78    1  2.0        2         1.0      2.0      2.0       2.0   \n",
      "2      31    1  NaN        1         2.0      2.0      2.0       2.0   \n",
      "2      34    1  2.0        2         2.0      2.0      2.0       2.0   \n",
      "..    ...  ...  ...      ...         ...      ...      ...       ...   \n",
      "1      46    1  2.0        2         1.0      1.0      1.0       2.0   \n",
      "2      44    1  2.0        2         1.0      2.0      2.0       2.0   \n",
      "2      61    1  1.0        2         1.0      1.0      2.0       1.0   \n",
      "2      53    2  1.0        2         1.0      2.0      2.0       2.0   \n",
      "1      43    1  2.0        2         1.0      2.0      2.0       2.0   \n",
      "\n",
      "    Liver Big  Liver Firm  Spleen Palpable  Spiders  Ascites  Varices  \\\n",
      "2         2.0         2.0              2.0      2.0      2.0      1.0   \n",
      "2         2.0         2.0              2.0      2.0      2.0      0.9   \n",
      "2         2.0         2.0              2.0      2.0      2.0      0.7   \n",
      "2         2.0         2.0              2.0      2.0      2.0      0.7   \n",
      "2         2.0         2.0              2.0      2.0      2.0      1.0   \n",
      "..        ...         ...              ...      ...      ...      ...   \n",
      "1         2.0         2.0              1.0      1.0      1.0      7.6   \n",
      "2         1.0         2.0              2.0      2.0      2.0      0.9   \n",
      "2         1.0         2.0              1.0      2.0      2.0      0.8   \n",
      "2         2.0         1.0              1.0      2.0      1.0      1.5   \n",
      "1         2.0         1.0              1.0      1.0      2.0      1.2   \n",
      "\n",
      "    Bilirubin  Alk Phosphate  Albumin  Protime  Histology  \n",
      "2        85.0           18.0      4.0      NaN          1  \n",
      "2       135.0           42.0      3.5      NaN          1  \n",
      "2        96.0           32.0      4.0      NaN          1  \n",
      "2        46.0           52.0      4.0     80.0          1  \n",
      "2         NaN          200.0      4.0      NaN          1  \n",
      "..        ...            ...      ...      ...        ...  \n",
      "1         NaN          242.0      3.3     50.0          2  \n",
      "2       126.0          142.0      4.3      NaN          2  \n",
      "2        75.0           20.0      4.1      NaN          2  \n",
      "2        81.0           19.0      4.1     48.0          2  \n",
      "1       100.0           19.0      3.1     42.0          2  \n",
      "\n",
      "[155 rows x 19 columns]\n",
      "    Class    Age    Sex  Steroid  Antivirals  Fatigue  Malaise  Anorexia  \\\n",
      "2   False  False  False    False       False    False    False     False   \n",
      "2   False  False  False    False       False    False    False     False   \n",
      "2   False  False  False    False       False    False    False     False   \n",
      "2   False  False   True    False       False    False    False     False   \n",
      "2   False  False  False    False       False    False    False     False   \n",
      "..    ...    ...    ...      ...         ...      ...      ...       ...   \n",
      "1   False  False  False    False       False    False    False     False   \n",
      "2   False  False  False    False       False    False    False     False   \n",
      "2   False  False  False    False       False    False    False     False   \n",
      "2   False  False  False    False       False    False    False     False   \n",
      "1   False  False  False    False       False    False    False     False   \n",
      "\n",
      "    Liver Big  Liver Firm  Spleen Palpable  Spiders  Ascites  Varices  \\\n",
      "2       False       False            False    False    False    False   \n",
      "2       False       False            False    False    False    False   \n",
      "2       False       False            False    False    False    False   \n",
      "2       False       False            False    False    False    False   \n",
      "2       False       False            False    False    False    False   \n",
      "..        ...         ...              ...      ...      ...      ...   \n",
      "1       False       False            False    False    False    False   \n",
      "2       False       False            False    False    False    False   \n",
      "2       False       False            False    False    False    False   \n",
      "2       False       False            False    False    False    False   \n",
      "1       False       False            False    False    False    False   \n",
      "\n",
      "    Bilirubin  Alk Phosphate  Albumin  Protime  Histology  \n",
      "2       False          False    False     True      False  \n",
      "2       False          False    False     True      False  \n",
      "2       False          False    False     True      False  \n",
      "2       False          False    False    False      False  \n",
      "2        True          False    False     True      False  \n",
      "..        ...            ...      ...      ...        ...  \n",
      "1        True          False    False    False      False  \n",
      "2       False          False    False     True      False  \n",
      "2       False          False    False     True      False  \n",
      "2       False          False    False    False      False  \n",
      "1       False          False    False    False      False  \n",
      "\n",
      "[155 rows x 19 columns]\n",
      "Class               0\n",
      "Age                 0\n",
      "Sex                 1\n",
      "Steroid             0\n",
      "Antivirals          1\n",
      "Fatigue             1\n",
      "Malaise             1\n",
      "Anorexia           10\n",
      "Liver Big          11\n",
      "Liver Firm          5\n",
      "Spleen Palpable     5\n",
      "Spiders             5\n",
      "Ascites             5\n",
      "Varices             6\n",
      "Bilirubin          29\n",
      "Alk Phosphate       4\n",
      "Albumin            16\n",
      "Protime            67\n",
      "Histology           0\n",
      "dtype: int64\n"
     ]
    }
   ],
   "source": [
    "mis_val= ['?', 'NaN']\n",
    "cln_hpt_df = pd.read_csv('https://archive.ics.uci.edu/ml/machine-learning-databases/hepatitis/hepatitis.data', names = [\"Class\",\"Age\", \"Sex\", \"Steroid\", \"Antivirals\", \"Fatigue\",\"Malaise\", \"Anorexia\", \"Liver Big\", \"Liver Firm\", \"Spleen Palpable\", \"Spiders\", \"Ascites\", \"Varices\", \"Bilirubin\", \"Alk Phosphate\", \"Albumin\", \"Protime\", \"Histology\"], na_values=mis_val)\n",
    "\n",
    "print(cln_hpt_df)\n",
    "print(cln_hpt_df.isnull())\n",
    "print(cln_hpt_df.isnull().sum())"
   ],
   "metadata": {
    "collapsed": false,
    "pycharm": {
     "name": "#%%\n"
    }
   }
  },
  {
   "cell_type": "code",
   "execution_count": 6,
   "outputs": [
    {
     "data": {
      "text/plain": "Class               0\nAge                 0\nSex                 1\nSteroid             0\nAntivirals          1\nFatigue             1\nMalaise             1\nAnorexia           10\nLiver Big          11\nLiver Firm          5\nSpleen Palpable     5\nSpiders             5\nAscites             5\nVarices             6\nBilirubin          29\nAlk Phosphate       4\nAlbumin            16\nProtime            67\nHistology           0\ndtype: int64"
     },
     "execution_count": 6,
     "metadata": {},
     "output_type": "execute_result"
    }
   ],
   "source": [
    "cln_hpt_df.isnull().sum()"
   ],
   "metadata": {
    "collapsed": false,
    "pycharm": {
     "name": "#%%\n"
    }
   }
  },
  {
   "cell_type": "code",
   "execution_count": 13,
   "outputs": [
    {
     "name": "stdout",
     "output_type": "stream",
     "text": [
      "    Class  Age  Steroid  Histology\n",
      "2      30    2        2          1\n",
      "2      50    1        2          1\n",
      "2      78    1        2          1\n",
      "2      31    1        1          1\n",
      "2      34    1        2          1\n",
      "..    ...  ...      ...        ...\n",
      "1      46    1        2          2\n",
      "2      44    1        2          2\n",
      "2      61    1        2          2\n",
      "2      53    2        2          2\n",
      "1      43    1        2          2\n",
      "\n",
      "[155 rows x 4 columns]\n"
     ]
    }
   ],
   "source": [
    "cln_hpt_df = cln_hpt_df.dropna(axis=0)\n",
    "print(cln_hpt_df)"
   ],
   "metadata": {
    "collapsed": false,
    "pycharm": {
     "name": "#%%\n"
    }
   }
  },
  {
   "cell_type": "code",
   "execution_count": 8,
   "outputs": [
    {
     "data": {
      "text/plain": "Class        0\nAge          0\nSteroid      0\nHistology    0\ndtype: int64"
     },
     "execution_count": 8,
     "metadata": {},
     "output_type": "execute_result"
    }
   ],
   "source": [
    "cln_hpt_df.isnull().sum()"
   ],
   "metadata": {
    "collapsed": false,
    "pycharm": {
     "name": "#%%\n"
    }
   }
  },
  {
   "cell_type": "code",
   "execution_count": 9,
   "outputs": [
    {
     "data": {
      "text/plain": "(155, 4)"
     },
     "execution_count": 9,
     "metadata": {},
     "output_type": "execute_result"
    }
   ],
   "source": [
    "cln_hpt_df.shape"
   ],
   "metadata": {
    "collapsed": false,
    "pycharm": {
     "name": "#%%\n"
    }
   }
  },
  {
   "cell_type": "code",
   "execution_count": 10,
   "outputs": [
    {
     "data": {
      "text/plain": "<seaborn.axisgrid.PairGrid at 0x1ea62f5baf0>"
     },
     "execution_count": 10,
     "metadata": {},
     "output_type": "execute_result"
    },
    {
     "data": {
      "text/plain": "<Figure size 589.5x540 with 12 Axes>",
      "image/png": "[encoded data removed]"
     },
     "metadata": {},
     "output_type": "display_data"
    }
   ],
   "source": [
    "sns.pairplot(cln_hpt_df, hue='Histology')"
   ],
   "metadata": {
    "collapsed": false,
    "pycharm": {
     "name": "#%%\n"
    }
   }
  },
  {
   "cell_type": "code",
   "execution_count": 11,
   "outputs": [
    {
     "data": {
      "text/plain": "<AxesSubplot:>"
     },
     "execution_count": 11,
     "metadata": {},
     "output_type": "execute_result"
    },
    {
     "data": {
      "text/plain": "<Figure size 432x288 with 1 Axes>",
      "image/png": "[encoded data removed]"
     },
     "metadata": {},
     "output_type": "display_data"
    }
   ],
   "source": [
    "cln_hpt_df.boxplot()"
   ],
   "metadata": {
    "collapsed": false,
    "pycharm": {
     "name": "#%%\n"
    }
   }
  },
  {
   "cell_type": "code",
   "execution_count": 12,
   "outputs": [
    {
     "data": {
      "text/plain": "MinMaxScaler()"
     },
     "execution_count": 12,
     "metadata": {},
     "output_type": "execute_result"
    }
   ],
   "source": [
    "#Normalizando el Dataframe\n",
    "scaler = MinMaxScaler()\n",
    "scaler.fit(cln_hpt_df)"
   ],
   "metadata": {
    "collapsed": false,
    "pycharm": {
     "name": "#%%\n"
    }
   }
  },
  {
   "cell_type": "code",
   "execution_count": null,
   "outputs": [],
   "source": [],
   "metadata": {
    "collapsed": false,
    "pycharm": {
     "name": "#%%\n"
    }
   }
  }
 ],
 "metadata": {
  "kernelspec": {
   "display_name": "Python 3",
   "language": "python",
   "name": "python3"
  },
  "language_info": {
   "codemirror_mode": {
    "name": "ipython",
    "version": 2
   },
   "file_extension": ".py",
   "mimetype": "text/x-python",
   "name": "python",
   "nbconvert_exporter": "python",
   "pygments_lexer": "ipython2",
   "version": "2.7.6"
  }
 },
 "nbformat": 4,
 "nbformat_minor": 0
}